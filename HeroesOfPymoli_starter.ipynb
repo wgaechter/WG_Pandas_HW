{
 "cells": [
  {
   "cell_type": "markdown",
   "metadata": {},
   "source": [
    "### Note\n",
    "* Instructions have been included for each segment. You do not have to follow them exactly, but they are included to help you think through the steps."
   ]
  },
  {
   "cell_type": "code",
   "execution_count": 1,
   "metadata": {},
   "outputs": [],
   "source": [
    "# Dependencies and Setup\n",
    "import pandas as pd\n",
    "\n",
    "# File to Load (Remember to Change These)\n",
    "file_to_load = \"Resources/purchase_data.csv\"\n",
    "\n",
    "# Read Purchasing File and store into Pandas data frame\n",
    "purchase_data = pd.read_csv(file_to_load)"
   ]
  },
  {
   "cell_type": "code",
   "execution_count": 2,
   "metadata": {},
   "outputs": [
    {
     "output_type": "execute_result",
     "data": {
      "text/plain": [
       "Index(['Purchase ID', 'SN', 'Age', 'Gender', 'Item ID', 'Item Name', 'Price'], dtype='object')"
      ]
     },
     "metadata": {},
     "execution_count": 2
    }
   ],
   "source": [
    "purchase_data.columns"
   ]
  },
  {
   "cell_type": "markdown",
   "metadata": {},
   "source": [
    "## Player Count"
   ]
  },
  {
   "cell_type": "markdown",
   "metadata": {},
   "source": [
    "* Display the total number of players\n"
   ]
  },
  {
   "cell_type": "code",
   "execution_count": 3,
   "metadata": {},
   "outputs": [
    {
     "output_type": "execute_result",
     "data": {
      "text/plain": [
       "576"
      ]
     },
     "metadata": {},
     "execution_count": 3
    }
   ],
   "source": [
    "Player_count = purchase_data[\"SN\"].nunique()\n",
    "\n",
    "Player_count"
   ]
  },
  {
   "cell_type": "markdown",
   "metadata": {},
   "source": [
    "## Purchasing Analysis (Total)"
   ]
  },
  {
   "cell_type": "markdown",
   "metadata": {},
   "source": [
    "* Run basic calculations to obtain number of unique items, average price, etc.\n",
    "\n",
    "\n",
    "* Create a summary data frame to hold the results\n",
    "\n",
    "\n",
    "* Optional: give the displayed data cleaner formatting\n",
    "\n",
    "\n",
    "* Display the summary data frame\n"
   ]
  },
  {
   "cell_type": "code",
   "execution_count": 4,
   "metadata": {
    "scrolled": true
   },
   "outputs": [
    {
     "output_type": "execute_result",
     "data": {
      "text/plain": [
       "   Unique Item Count  Average Item Price  Total Purchases  Total Item Revenue\n",
       "0                179            3.050987              780             2379.77"
      ],
      "text/html": "<div>\n<style scoped>\n    .dataframe tbody tr th:only-of-type {\n        vertical-align: middle;\n    }\n\n    .dataframe tbody tr th {\n        vertical-align: top;\n    }\n\n    .dataframe thead th {\n        text-align: right;\n    }\n</style>\n<table border=\"1\" class=\"dataframe\">\n  <thead>\n    <tr style=\"text-align: right;\">\n      <th></th>\n      <th>Unique Item Count</th>\n      <th>Average Item Price</th>\n      <th>Total Purchases</th>\n      <th>Total Item Revenue</th>\n    </tr>\n  </thead>\n  <tbody>\n    <tr>\n      <th>0</th>\n      <td>179</td>\n      <td>3.050987</td>\n      <td>780</td>\n      <td>2379.77</td>\n    </tr>\n  </tbody>\n</table>\n</div>"
     },
     "metadata": {},
     "execution_count": 4
    }
   ],
   "source": [
    "purchases = len(purchase_data)\n",
    "\n",
    "unique_items = purchase_data[\"Item ID\"].nunique()\n",
    "\n",
    "avg_price = purchase_data[\"Price\"].mean()\n",
    "\n",
    "revenue = purchase_data[\"Price\"].sum()\n",
    "\n",
    "summary_df = pd.DataFrame({\"Unique Item Count\": unique_items, \"Average Item Price\": avg_price, \"Total Purchases\": purchases, \"Total Item Revenue\": revenue}, index=[0])\n",
    "\n",
    "summary_df"
   ]
  },
  {
   "cell_type": "markdown",
   "metadata": {},
   "source": [
    "## Gender Demographics"
   ]
  },
  {
   "cell_type": "markdown",
   "metadata": {},
   "source": [
    "* Percentage and Count of Male Players\n",
    "\n",
    "\n",
    "* Percentage and Count of Female Players\n",
    "\n",
    "\n",
    "* Percentage and Count of Other / Non-Disclosed\n",
    "\n",
    "\n"
   ]
  },
  {
   "cell_type": "code",
   "execution_count": 5,
   "metadata": {},
   "outputs": [
    {
     "output_type": "execute_result",
     "data": {
      "text/plain": [
       "                  Gender  Unique Player Count  Purchase Count  \\\n",
       "0                 Female                   81             113   \n",
       "1                   Male                  484             652   \n",
       "2  Other / Non-Disclosed                   11              15   \n",
       "\n",
       "   Demographic Percentage  \n",
       "0                0.144872  \n",
       "1                0.835897  \n",
       "2                0.019231  "
      ],
      "text/html": "<div>\n<style scoped>\n    .dataframe tbody tr th:only-of-type {\n        vertical-align: middle;\n    }\n\n    .dataframe tbody tr th {\n        vertical-align: top;\n    }\n\n    .dataframe thead th {\n        text-align: right;\n    }\n</style>\n<table border=\"1\" class=\"dataframe\">\n  <thead>\n    <tr style=\"text-align: right;\">\n      <th></th>\n      <th>Gender</th>\n      <th>Unique Player Count</th>\n      <th>Purchase Count</th>\n      <th>Demographic Percentage</th>\n    </tr>\n  </thead>\n  <tbody>\n    <tr>\n      <th>0</th>\n      <td>Female</td>\n      <td>81</td>\n      <td>113</td>\n      <td>0.144872</td>\n    </tr>\n    <tr>\n      <th>1</th>\n      <td>Male</td>\n      <td>484</td>\n      <td>652</td>\n      <td>0.835897</td>\n    </tr>\n    <tr>\n      <th>2</th>\n      <td>Other / Non-Disclosed</td>\n      <td>11</td>\n      <td>15</td>\n      <td>0.019231</td>\n    </tr>\n  </tbody>\n</table>\n</div>"
     },
     "metadata": {},
     "execution_count": 5
    }
   ],
   "source": [
    "gender_count = purchase_data.groupby(\"Gender\", as_index=False)[\"SN\"].nunique()\n",
    "\n",
    "gender_group = purchase_data.groupby(\"Gender\", as_index=False)[\"Purchase ID\"].count()\n",
    "\n",
    "gender_group = gender_count.merge(gender_group, how=\"outer\", on=\"Gender\")\n",
    "\n",
    "gender_group[\"Demographic Percentage\"] = gender_group[\"Purchase ID\"] / (len(purchase_data))\n",
    "\n",
    "gender_group = gender_group.rename(columns={\"Purchase ID\": \"Purchase Count\", \"SN\": \"Unique Player Count\"})\n",
    "\n",
    "gender_group"
   ]
  },
  {
   "cell_type": "markdown",
   "metadata": {},
   "source": [
    "\n",
    "## Purchasing Analysis (Gender)"
   ]
  },
  {
   "cell_type": "markdown",
   "metadata": {},
   "source": [
    "* Run basic calculations to obtain purchase count, avg. purchase price, avg. purchase total per person etc. by gender\n",
    "\n",
    "\n",
    "\n",
    "\n",
    "* Create a summary data frame to hold the results\n",
    "\n",
    "\n",
    "* Optional: give the displayed data cleaner formatting\n",
    "\n",
    "\n",
    "* Display the summary data frame"
   ]
  },
  {
   "cell_type": "code",
   "execution_count": 6,
   "metadata": {},
   "outputs": [
    {
     "output_type": "execute_result",
     "data": {
      "text/plain": [
       "                       Unique Player Count  Purchase Count  \\\n",
       "Gender                                                       \n",
       "Female                                  81             113   \n",
       "Male                                   484             652   \n",
       "Other / Non-Disclosed                   11              15   \n",
       "\n",
       "                       Demographic Percentage  Average Purchase Price  \\\n",
       "Gender                                                                  \n",
       "Female                               0.144872                3.203009   \n",
       "Male                                 0.835897                3.017853   \n",
       "Other / Non-Disclosed                0.019231                3.346000   \n",
       "\n",
       "                       Total Purchase Value  Avg Total Purchase Per Person  \n",
       "Gender                                                                      \n",
       "Female                               361.94                       4.468395  \n",
       "Male                                1967.64                       4.065372  \n",
       "Other / Non-Disclosed                 50.19                       4.562727  "
      ],
      "text/html": "<div>\n<style scoped>\n    .dataframe tbody tr th:only-of-type {\n        vertical-align: middle;\n    }\n\n    .dataframe tbody tr th {\n        vertical-align: top;\n    }\n\n    .dataframe thead th {\n        text-align: right;\n    }\n</style>\n<table border=\"1\" class=\"dataframe\">\n  <thead>\n    <tr style=\"text-align: right;\">\n      <th></th>\n      <th>Unique Player Count</th>\n      <th>Purchase Count</th>\n      <th>Demographic Percentage</th>\n      <th>Average Purchase Price</th>\n      <th>Total Purchase Value</th>\n      <th>Avg Total Purchase Per Person</th>\n    </tr>\n    <tr>\n      <th>Gender</th>\n      <th></th>\n      <th></th>\n      <th></th>\n      <th></th>\n      <th></th>\n      <th></th>\n    </tr>\n  </thead>\n  <tbody>\n    <tr>\n      <th>Female</th>\n      <td>81</td>\n      <td>113</td>\n      <td>0.144872</td>\n      <td>3.203009</td>\n      <td>361.94</td>\n      <td>4.468395</td>\n    </tr>\n    <tr>\n      <th>Male</th>\n      <td>484</td>\n      <td>652</td>\n      <td>0.835897</td>\n      <td>3.017853</td>\n      <td>1967.64</td>\n      <td>4.065372</td>\n    </tr>\n    <tr>\n      <th>Other / Non-Disclosed</th>\n      <td>11</td>\n      <td>15</td>\n      <td>0.019231</td>\n      <td>3.346000</td>\n      <td>50.19</td>\n      <td>4.562727</td>\n    </tr>\n  </tbody>\n</table>\n</div>"
     },
     "metadata": {},
     "execution_count": 6
    }
   ],
   "source": [
    "##### Create New Columns with calculations into grouped frame, then merge \n",
    "\n",
    "## Avg Price by Gender\n",
    "AvgGenderPrice = purchase_data.groupby(\"Gender\", as_index=False)[\"Price\"].mean()\n",
    "\n",
    "AvgGenderPrice = AvgGenderPrice.rename(columns={\"Price\": \"Average Purchase Price\"})\n",
    "\n",
    "gender_summary = gender_group.merge(AvgGenderPrice, how=\"outer\", on=\"Gender\")\n",
    "\n",
    "gender_summary\n",
    "\n",
    "## Total Purhcase Value\n",
    "\n",
    "TotalGenderPrice = purchase_data.groupby(\"Gender\", as_index=False)[\"Price\"].sum()\n",
    "\n",
    "TotalGenderPrice = TotalGenderPrice.rename(columns={\"Price\": \"Total Purchase Value\"})\n",
    "\n",
    "gender_summary = gender_summary.merge(TotalGenderPrice, how=\"outer\", on=\"Gender\")\n",
    "\n",
    "## Avg Per Person\n",
    "\n",
    "gender_summary[\"Avg Total Purchase Per Person\"] = (gender_summary[\"Total Purchase Value\"] / gender_summary[\"Unique Player Count\"])\n",
    "\n",
    "##### Reset The Index to be on Gender for lookups\n",
    "\n",
    "gender_summary = gender_summary.set_index(\"Gender\")\n",
    "\n",
    "##### Format Gender Summary Frame\n",
    "\n",
    "\n",
    "\n",
    "#### gender_Summary Test\n",
    "gender_summary"
   ]
  },
  {
   "cell_type": "markdown",
   "metadata": {},
   "source": [
    "## Age Demographics"
   ]
  },
  {
   "cell_type": "markdown",
   "metadata": {},
   "source": [
    "* Establish bins for ages\n",
    "\n",
    "\n",
    "* Categorize the existing players using the age bins. Hint: use pd.cut()\n",
    "\n",
    "\n",
    "* Calculate the numbers and percentages by age group\n",
    "\n",
    "\n",
    "* Create a summary data frame to hold the results\n",
    "\n",
    "\n",
    "* Optional: round the percentage column to two decimal points\n",
    "\n",
    "\n",
    "* Display Age Demographics Table\n"
   ]
  },
  {
   "cell_type": "code",
   "execution_count": 7,
   "metadata": {},
   "outputs": [],
   "source": [
    "##### Age Demo Copy to work with\n",
    "\n",
    "age_demo = purchase_data.copy()\n",
    "\n",
    "##### Create Bins\n",
    "\n",
    "age_bins = [0, 9.9, 14.9, 19.9, 24.9, 29.9, 34.9, 39.9, 100]\n",
    "bin_names = [\"<10\", \"10-14\", \"15-19\", \"20-24\", \"25-29\", \"30-34\", \"35-40\", \"40+\"]\n",
    "\n",
    "##### Create and sort to bins\n",
    "\n",
    "age_demo[\"Age Group\"] = pd.cut(age_demo[\"Age\"], age_bins, labels=bin_names, include_lowest=True)\n",
    "\n",
    "#age_group = age_demo.groupby(\"Age Summary\")"
   ]
  },
  {
   "cell_type": "code",
   "execution_count": 8,
   "metadata": {},
   "outputs": [
    {
     "output_type": "execute_result",
     "data": {
      "text/plain": [
       "  Age Group  Unique Player Count  Percentage of Players\n",
       "0       <10                   17               0.029514\n",
       "1     10-14                   22               0.038194\n",
       "2     15-19                  107               0.185764\n",
       "3     20-24                  258               0.447917\n",
       "4     25-29                   77               0.133681\n",
       "5     30-34                   52               0.090278\n",
       "6     35-40                   31               0.053819\n",
       "7       40+                   12               0.020833"
      ],
      "text/html": "<div>\n<style scoped>\n    .dataframe tbody tr th:only-of-type {\n        vertical-align: middle;\n    }\n\n    .dataframe tbody tr th {\n        vertical-align: top;\n    }\n\n    .dataframe thead th {\n        text-align: right;\n    }\n</style>\n<table border=\"1\" class=\"dataframe\">\n  <thead>\n    <tr style=\"text-align: right;\">\n      <th></th>\n      <th>Age Group</th>\n      <th>Unique Player Count</th>\n      <th>Percentage of Players</th>\n    </tr>\n  </thead>\n  <tbody>\n    <tr>\n      <th>0</th>\n      <td>&lt;10</td>\n      <td>17</td>\n      <td>0.029514</td>\n    </tr>\n    <tr>\n      <th>1</th>\n      <td>10-14</td>\n      <td>22</td>\n      <td>0.038194</td>\n    </tr>\n    <tr>\n      <th>2</th>\n      <td>15-19</td>\n      <td>107</td>\n      <td>0.185764</td>\n    </tr>\n    <tr>\n      <th>3</th>\n      <td>20-24</td>\n      <td>258</td>\n      <td>0.447917</td>\n    </tr>\n    <tr>\n      <th>4</th>\n      <td>25-29</td>\n      <td>77</td>\n      <td>0.133681</td>\n    </tr>\n    <tr>\n      <th>5</th>\n      <td>30-34</td>\n      <td>52</td>\n      <td>0.090278</td>\n    </tr>\n    <tr>\n      <th>6</th>\n      <td>35-40</td>\n      <td>31</td>\n      <td>0.053819</td>\n    </tr>\n    <tr>\n      <th>7</th>\n      <td>40+</td>\n      <td>12</td>\n      <td>0.020833</td>\n    </tr>\n  </tbody>\n</table>\n</div>"
     },
     "metadata": {},
     "execution_count": 8
    }
   ],
   "source": [
    "##### Age Group Column work\n",
    "\n",
    "age_quick_summary = age_demo.groupby(\"Age Group\", as_index=False)[\"SN\"].nunique()\n",
    "\n",
    "unique_players = age_demo[\"SN\"].nunique()\n",
    "\n",
    "age_quick_summary[\"Percentage of Players\"] = age_quick_summary[\"SN\"] / (unique_players)\n",
    "\n",
    "age_quick_summary = age_quick_summary.rename(columns={\"SN\": \"Unique Player Count\"})\n",
    "\n",
    "############ FORMATTING OF QUICK AGE SUMMARY ################\n",
    "\n",
    "age_quick_summary"
   ]
  },
  {
   "cell_type": "code",
   "execution_count": 16,
   "metadata": {},
   "outputs": [
    {
     "output_type": "execute_result",
     "data": {
      "text/plain": [
       "           Unique Player Count  Percentage of Players  Average Purchase Price  \\\n",
       "Age Group                                                                       \n",
       "<10                         17               0.029514                3.353478   \n",
       "10-14                       22               0.038194                2.956429   \n",
       "15-19                      107               0.185764                3.035956   \n",
       "20-24                      258               0.447917                3.052219   \n",
       "25-29                       77               0.133681                2.900990   \n",
       "30-34                       52               0.090278                2.931507   \n",
       "35-40                       31               0.053819                3.601707   \n",
       "40+                         12               0.020833                2.941538   \n",
       "\n",
       "           Total Purchase Value  Avg. Total Purchase per Player  \n",
       "Age Group                                                        \n",
       "<10                       77.13                        4.537059  \n",
       "10-14                     82.78                        3.762727  \n",
       "15-19                    412.89                        3.858785  \n",
       "20-24                   1114.06                        4.318062  \n",
       "25-29                    293.00                        3.805195  \n",
       "30-34                    214.00                        4.115385  \n",
       "35-40                    147.67                        4.763548  \n",
       "40+                       38.24                        3.186667  "
      ],
      "text/html": "<div>\n<style scoped>\n    .dataframe tbody tr th:only-of-type {\n        vertical-align: middle;\n    }\n\n    .dataframe tbody tr th {\n        vertical-align: top;\n    }\n\n    .dataframe thead th {\n        text-align: right;\n    }\n</style>\n<table border=\"1\" class=\"dataframe\">\n  <thead>\n    <tr style=\"text-align: right;\">\n      <th></th>\n      <th>Unique Player Count</th>\n      <th>Percentage of Players</th>\n      <th>Average Purchase Price</th>\n      <th>Total Purchase Value</th>\n      <th>Avg. Total Purchase per Player</th>\n    </tr>\n    <tr>\n      <th>Age Group</th>\n      <th></th>\n      <th></th>\n      <th></th>\n      <th></th>\n      <th></th>\n    </tr>\n  </thead>\n  <tbody>\n    <tr>\n      <th>&lt;10</th>\n      <td>17</td>\n      <td>0.029514</td>\n      <td>3.353478</td>\n      <td>77.13</td>\n      <td>4.537059</td>\n    </tr>\n    <tr>\n      <th>10-14</th>\n      <td>22</td>\n      <td>0.038194</td>\n      <td>2.956429</td>\n      <td>82.78</td>\n      <td>3.762727</td>\n    </tr>\n    <tr>\n      <th>15-19</th>\n      <td>107</td>\n      <td>0.185764</td>\n      <td>3.035956</td>\n      <td>412.89</td>\n      <td>3.858785</td>\n    </tr>\n    <tr>\n      <th>20-24</th>\n      <td>258</td>\n      <td>0.447917</td>\n      <td>3.052219</td>\n      <td>1114.06</td>\n      <td>4.318062</td>\n    </tr>\n    <tr>\n      <th>25-29</th>\n      <td>77</td>\n      <td>0.133681</td>\n      <td>2.900990</td>\n      <td>293.00</td>\n      <td>3.805195</td>\n    </tr>\n    <tr>\n      <th>30-34</th>\n      <td>52</td>\n      <td>0.090278</td>\n      <td>2.931507</td>\n      <td>214.00</td>\n      <td>4.115385</td>\n    </tr>\n    <tr>\n      <th>35-40</th>\n      <td>31</td>\n      <td>0.053819</td>\n      <td>3.601707</td>\n      <td>147.67</td>\n      <td>4.763548</td>\n    </tr>\n    <tr>\n      <th>40+</th>\n      <td>12</td>\n      <td>0.020833</td>\n      <td>2.941538</td>\n      <td>38.24</td>\n      <td>3.186667</td>\n    </tr>\n  </tbody>\n</table>\n</div>"
     },
     "metadata": {},
     "execution_count": 16
    }
   ],
   "source": [
    "##### FULL AGE SUMMARY BLOCK #####\n",
    "\n",
    "## Quick copy to work with full summary while keeping quick age summary for recall ##\n",
    "age_summary = age_quick_summary.copy()\n",
    "\n",
    "## Avg. Price\n",
    "AvgAgePrice = age_demo.groupby(\"Age Group\", as_index=False)[\"Price\"].mean()\n",
    "\n",
    "age_summary = age_summary.merge(AvgAgePrice, how=\"outer\", on=\"Age Group\")\n",
    "\n",
    "age_summary = age_summary.rename(columns={\"Price\": \"Average Purchase Price\"})\n",
    "\n",
    "## Total Purchase Value\n",
    "\n",
    "TotalAgeValue = age_demo.groupby(\"Age Group\", as_index=False)[\"Price\"].sum()\n",
    "\n",
    "age_summary = age_summary.merge(TotalAgeValue, how=\"outer\", on=\"Age Group\")\n",
    "\n",
    "age_summary = age_summary.rename(columns={\"Price\": \"Total Purchase Value\"})\n",
    "\n",
    "## Avg Total per person\n",
    "\n",
    "age_summary[\"Avg. Total Purchase per Player\"] = (age_summary[\"Total Purchase Value\"] / age_summary[\"Unique Player Count\"])\n",
    "\n",
    "#### Reset Index to be on [Age Group]\n",
    "\n",
    "age_summary = age_summary.set_index(\"Age Group\")\n",
    "\n",
    "############# FORMATTING OF AGE SUMMARY ###############\n",
    "\n",
    "### TEST LINE ###\n",
    "age_summary"
   ]
  },
  {
   "cell_type": "markdown",
   "metadata": {},
   "source": [
    "## Top Spenders"
   ]
  },
  {
   "cell_type": "markdown",
   "metadata": {},
   "source": [
    "* Run basic calculations to obtain the results in the table below\n",
    "\n",
    "\n",
    "* Create a summary data frame to hold the results\n",
    "\n",
    "\n",
    "* Sort the total purchase value column in descending order\n",
    "\n",
    "\n",
    "* Optional: give the displayed data cleaner formatting\n",
    "\n",
    "\n",
    "* Display a preview of the summary data frame\n",
    "\n"
   ]
  },
  {
   "cell_type": "code",
   "execution_count": 33,
   "metadata": {},
   "outputs": [
    {
     "output_type": "execute_result",
     "data": {
      "text/plain": [
       "             Number of Purchases  Average Purchase Price  Total Purchase Value\n",
       "Player Name                                                                   \n",
       "Lisosia93                      5                3.792000                 18.96\n",
       "Iral74                         4                3.405000                 13.62\n",
       "Idastidru52                    4                3.862500                 15.45\n",
       "Asur53                         3                2.480000                  7.44\n",
       "Inguron55                      3                3.703333                 11.11"
      ],
      "text/html": "<div>\n<style scoped>\n    .dataframe tbody tr th:only-of-type {\n        vertical-align: middle;\n    }\n\n    .dataframe tbody tr th {\n        vertical-align: top;\n    }\n\n    .dataframe thead th {\n        text-align: right;\n    }\n</style>\n<table border=\"1\" class=\"dataframe\">\n  <thead>\n    <tr style=\"text-align: right;\">\n      <th></th>\n      <th>Number of Purchases</th>\n      <th>Average Purchase Price</th>\n      <th>Total Purchase Value</th>\n    </tr>\n    <tr>\n      <th>Player Name</th>\n      <th></th>\n      <th></th>\n      <th></th>\n    </tr>\n  </thead>\n  <tbody>\n    <tr>\n      <th>Lisosia93</th>\n      <td>5</td>\n      <td>3.792000</td>\n      <td>18.96</td>\n    </tr>\n    <tr>\n      <th>Iral74</th>\n      <td>4</td>\n      <td>3.405000</td>\n      <td>13.62</td>\n    </tr>\n    <tr>\n      <th>Idastidru52</th>\n      <td>4</td>\n      <td>3.862500</td>\n      <td>15.45</td>\n    </tr>\n    <tr>\n      <th>Asur53</th>\n      <td>3</td>\n      <td>2.480000</td>\n      <td>7.44</td>\n    </tr>\n    <tr>\n      <th>Inguron55</th>\n      <td>3</td>\n      <td>3.703333</td>\n      <td>11.11</td>\n    </tr>\n  </tbody>\n</table>\n</div>"
     },
     "metadata": {},
     "execution_count": 33
    }
   ],
   "source": [
    "####### TOP SPENDERS BLOCK #########\n",
    "\n",
    "##Copy of main DF for SN grouping\n",
    "sn_group = purchase_data.copy()\n",
    "\n",
    "## Purchase Count block\n",
    "\n",
    "sn_summary = sn_group.groupby(\"SN\", as_index=False)[\"Purchase ID\"].count()\n",
    "\n",
    "## Avg. Purchase Price\n",
    "\n",
    "AvgSNPrice = sn_group.groupby(\"SN\", as_index=False)[\"Price\"].mean()\n",
    "\n",
    "sn_summary = sn_summary.merge(AvgSNPrice, how=\"outer\", on=\"SN\")\n",
    "\n",
    "## Total Purchase Value\n",
    "\n",
    "TotalSNValue = sn_group.groupby(\"SN\", as_index=False)[\"Price\"].sum()\n",
    "\n",
    "sn_summary = sn_summary.merge(TotalSNValue, how=\"outer\", on=\"SN\")\n",
    "\n",
    "## Sort by purchases\n",
    "\n",
    "sn_summary = sn_summary.sort_values(by=\"Purchase ID\", ascending=False)\n",
    "\n",
    "#### FORMATTING ####\n",
    "\n",
    "# Rename Columns\n",
    "sn_summary = sn_summary.rename(columns={\"SN\": \"Player Name\", \"Purchase ID\": \"Number of Purchases\", \"Price_x\": \"Average Purchase Price\", \"Price_y\": \"Total Purchase Value\"})\n",
    "\n",
    "# Set Index\n",
    "sn_summary = sn_summary.set_index(\"Player Name\")\n",
    "\n",
    "## Test Line\n",
    "sn_summary.head()"
   ]
  },
  {
   "cell_type": "markdown",
   "metadata": {},
   "source": [
    "## Most Popular Items"
   ]
  },
  {
   "cell_type": "markdown",
   "metadata": {},
   "source": [
    "* Retrieve the Item ID, Item Name, and Item Price columns\n",
    "\n",
    "\n",
    "* Group by Item ID and Item Name. Perform calculations to obtain purchase count, average item price, and total purchase value\n",
    "\n",
    "\n",
    "* Create a summary data frame to hold the results\n",
    "\n",
    "\n",
    "* Sort the purchase count column in descending order\n",
    "\n",
    "\n",
    "* Optional: give the displayed data cleaner formatting\n",
    "\n",
    "\n",
    "* Display a preview of the summary data frame\n",
    "\n"
   ]
  },
  {
   "cell_type": "code",
   "execution_count": 9,
   "metadata": {},
   "outputs": [
    {
     "data": {
      "text/html": [
       "<div>\n",
       "<style scoped>\n",
       "    .dataframe tbody tr th:only-of-type {\n",
       "        vertical-align: middle;\n",
       "    }\n",
       "\n",
       "    .dataframe tbody tr th {\n",
       "        vertical-align: top;\n",
       "    }\n",
       "\n",
       "    .dataframe thead th {\n",
       "        text-align: right;\n",
       "    }\n",
       "</style>\n",
       "<table border=\"1\" class=\"dataframe\">\n",
       "  <thead>\n",
       "    <tr style=\"text-align: right;\">\n",
       "      <th></th>\n",
       "      <th></th>\n",
       "      <th>Purchase Count</th>\n",
       "      <th>Item Price</th>\n",
       "      <th>Total Purchase Value</th>\n",
       "    </tr>\n",
       "    <tr>\n",
       "      <th>Item ID</th>\n",
       "      <th>Item Name</th>\n",
       "      <th></th>\n",
       "      <th></th>\n",
       "      <th></th>\n",
       "    </tr>\n",
       "  </thead>\n",
       "  <tbody>\n",
       "    <tr>\n",
       "      <th>92</th>\n",
       "      <th>Final Critic</th>\n",
       "      <td>13</td>\n",
       "      <td>$4.61</td>\n",
       "      <td>$59.99</td>\n",
       "    </tr>\n",
       "    <tr>\n",
       "      <th>178</th>\n",
       "      <th>Oathbreaker, Last Hope of the Breaking Storm</th>\n",
       "      <td>12</td>\n",
       "      <td>$4.23</td>\n",
       "      <td>$50.76</td>\n",
       "    </tr>\n",
       "    <tr>\n",
       "      <th>145</th>\n",
       "      <th>Fiery Glass Crusader</th>\n",
       "      <td>9</td>\n",
       "      <td>$4.58</td>\n",
       "      <td>$41.22</td>\n",
       "    </tr>\n",
       "    <tr>\n",
       "      <th>132</th>\n",
       "      <th>Persuasion</th>\n",
       "      <td>9</td>\n",
       "      <td>$3.22</td>\n",
       "      <td>$28.99</td>\n",
       "    </tr>\n",
       "    <tr>\n",
       "      <th>108</th>\n",
       "      <th>Extraction, Quickblade Of Trembling Hands</th>\n",
       "      <td>9</td>\n",
       "      <td>$3.53</td>\n",
       "      <td>$31.77</td>\n",
       "    </tr>\n",
       "  </tbody>\n",
       "</table>\n",
       "</div>"
      ],
      "text/plain": [
       "                                                     Purchase Count  \\\n",
       "Item ID Item Name                                                     \n",
       "92      Final Critic                                             13   \n",
       "178     Oathbreaker, Last Hope of the Breaking Storm             12   \n",
       "145     Fiery Glass Crusader                                      9   \n",
       "132     Persuasion                                                9   \n",
       "108     Extraction, Quickblade Of Trembling Hands                 9   \n",
       "\n",
       "                                                     Item Price  \\\n",
       "Item ID Item Name                                                 \n",
       "92      Final Critic                                      $4.61   \n",
       "178     Oathbreaker, Last Hope of the Breaking Storm      $4.23   \n",
       "145     Fiery Glass Crusader                              $4.58   \n",
       "132     Persuasion                                        $3.22   \n",
       "108     Extraction, Quickblade Of Trembling Hands         $3.53   \n",
       "\n",
       "                                                     Total Purchase Value  \n",
       "Item ID Item Name                                                          \n",
       "92      Final Critic                                               $59.99  \n",
       "178     Oathbreaker, Last Hope of the Breaking Storm               $50.76  \n",
       "145     Fiery Glass Crusader                                       $41.22  \n",
       "132     Persuasion                                                 $28.99  \n",
       "108     Extraction, Quickblade Of Trembling Hands                  $31.77  "
      ]
     },
     "execution_count": 9,
     "metadata": {},
     "output_type": "execute_result"
    }
   ],
   "source": []
  },
  {
   "cell_type": "markdown",
   "metadata": {},
   "source": [
    "## Most Profitable Items"
   ]
  },
  {
   "cell_type": "markdown",
   "metadata": {},
   "source": [
    "* Sort the above table by total purchase value in descending order\n",
    "\n",
    "\n",
    "* Optional: give the displayed data cleaner formatting\n",
    "\n",
    "\n",
    "* Display a preview of the data frame\n",
    "\n"
   ]
  },
  {
   "cell_type": "code",
   "execution_count": 10,
   "metadata": {
    "scrolled": true
   },
   "outputs": [
    {
     "data": {
      "text/html": [
       "<div>\n",
       "<style scoped>\n",
       "    .dataframe tbody tr th:only-of-type {\n",
       "        vertical-align: middle;\n",
       "    }\n",
       "\n",
       "    .dataframe tbody tr th {\n",
       "        vertical-align: top;\n",
       "    }\n",
       "\n",
       "    .dataframe thead th {\n",
       "        text-align: right;\n",
       "    }\n",
       "</style>\n",
       "<table border=\"1\" class=\"dataframe\">\n",
       "  <thead>\n",
       "    <tr style=\"text-align: right;\">\n",
       "      <th></th>\n",
       "      <th></th>\n",
       "      <th>Purchase Count</th>\n",
       "      <th>Item Price</th>\n",
       "      <th>Total Purchase Value</th>\n",
       "    </tr>\n",
       "    <tr>\n",
       "      <th>Item ID</th>\n",
       "      <th>Item Name</th>\n",
       "      <th></th>\n",
       "      <th></th>\n",
       "      <th></th>\n",
       "    </tr>\n",
       "  </thead>\n",
       "  <tbody>\n",
       "    <tr>\n",
       "      <th>92</th>\n",
       "      <th>Final Critic</th>\n",
       "      <td>13</td>\n",
       "      <td>$4.61</td>\n",
       "      <td>$59.99</td>\n",
       "    </tr>\n",
       "    <tr>\n",
       "      <th>178</th>\n",
       "      <th>Oathbreaker, Last Hope of the Breaking Storm</th>\n",
       "      <td>12</td>\n",
       "      <td>$4.23</td>\n",
       "      <td>$50.76</td>\n",
       "    </tr>\n",
       "    <tr>\n",
       "      <th>82</th>\n",
       "      <th>Nirvana</th>\n",
       "      <td>9</td>\n",
       "      <td>$4.90</td>\n",
       "      <td>$44.10</td>\n",
       "    </tr>\n",
       "    <tr>\n",
       "      <th>145</th>\n",
       "      <th>Fiery Glass Crusader</th>\n",
       "      <td>9</td>\n",
       "      <td>$4.58</td>\n",
       "      <td>$41.22</td>\n",
       "    </tr>\n",
       "    <tr>\n",
       "      <th>103</th>\n",
       "      <th>Singed Scalpel</th>\n",
       "      <td>8</td>\n",
       "      <td>$4.35</td>\n",
       "      <td>$34.80</td>\n",
       "    </tr>\n",
       "  </tbody>\n",
       "</table>\n",
       "</div>"
      ],
      "text/plain": [
       "                                                     Purchase Count  \\\n",
       "Item ID Item Name                                                     \n",
       "92      Final Critic                                             13   \n",
       "178     Oathbreaker, Last Hope of the Breaking Storm             12   \n",
       "82      Nirvana                                                   9   \n",
       "145     Fiery Glass Crusader                                      9   \n",
       "103     Singed Scalpel                                            8   \n",
       "\n",
       "                                                     Item Price  \\\n",
       "Item ID Item Name                                                 \n",
       "92      Final Critic                                      $4.61   \n",
       "178     Oathbreaker, Last Hope of the Breaking Storm      $4.23   \n",
       "82      Nirvana                                           $4.90   \n",
       "145     Fiery Glass Crusader                              $4.58   \n",
       "103     Singed Scalpel                                    $4.35   \n",
       "\n",
       "                                                     Total Purchase Value  \n",
       "Item ID Item Name                                                          \n",
       "92      Final Critic                                               $59.99  \n",
       "178     Oathbreaker, Last Hope of the Breaking Storm               $50.76  \n",
       "82      Nirvana                                                    $44.10  \n",
       "145     Fiery Glass Crusader                                       $41.22  \n",
       "103     Singed Scalpel                                             $34.80  "
      ]
     },
     "execution_count": 10,
     "metadata": {},
     "output_type": "execute_result"
    }
   ],
   "source": []
  }
 ],
 "metadata": {
  "anaconda-cloud": {},
  "kernel_info": {
   "name": "python3"
  },
  "kernelspec": {
   "display_name": "Python 3",
   "language": "python",
   "name": "python3"
  },
  "language_info": {
   "codemirror_mode": {
    "name": "ipython",
    "version": 3
   },
   "file_extension": ".py",
   "mimetype": "text/x-python",
   "name": "python",
   "nbconvert_exporter": "python",
   "pygments_lexer": "ipython3",
   "version": "3.8.5-final"
  },
  "latex_envs": {
   "LaTeX_envs_menu_present": true,
   "autoclose": false,
   "autocomplete": true,
   "bibliofile": "biblio.bib",
   "cite_by": "apalike",
   "current_citInitial": 1,
   "eqLabelWithNumbers": true,
   "eqNumInitial": 1,
   "hotkeys": {
    "equation": "Ctrl-E",
    "itemize": "Ctrl-I"
   },
   "labels_anchors": false,
   "latex_user_defs": false,
   "report_style_numbering": false,
   "user_envs_cfg": false
  },
  "nteract": {
   "version": "0.2.0"
  }
 },
 "nbformat": 4,
 "nbformat_minor": 2
}