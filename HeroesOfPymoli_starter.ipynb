{
 "cells": [
  {
   "cell_type": "markdown",
   "metadata": {},
   "source": [
    "### Note\n",
    "* Instructions have been included for each segment. You do not have to follow them exactly, but they are included to help you think through the steps."
   ]
  },
  {
   "cell_type": "code",
   "execution_count": 1,
   "metadata": {},
   "outputs": [],
   "source": [
    "# Dependencies and Setup\n",
    "import pandas as pd\n",
    "\n",
    "# File to Load (Remember to Change These)\n",
    "file_to_load = \"Resources/purchase_data.csv\"\n",
    "\n",
    "# Read Purchasing File and store into Pandas data frame\n",
    "purchase_data = pd.read_csv(file_to_load)"
   ]
  },
  {
   "cell_type": "code",
   "execution_count": 2,
   "metadata": {},
   "outputs": [
    {
     "output_type": "execute_result",
     "data": {
      "text/plain": [
       "Index(['Purchase ID', 'SN', 'Age', 'Gender', 'Item ID', 'Item Name', 'Price'], dtype='object')"
      ]
     },
     "metadata": {},
     "execution_count": 2
    }
   ],
   "source": [
    "purchase_data.columns"
   ]
  },
  {
   "cell_type": "markdown",
   "metadata": {},
   "source": [
    "## Player Count"
   ]
  },
  {
   "cell_type": "markdown",
   "metadata": {},
   "source": [
    "* Display the total number of players\n"
   ]
  },
  {
   "cell_type": "code",
   "execution_count": 3,
   "metadata": {},
   "outputs": [
    {
     "output_type": "execute_result",
     "data": {
      "text/plain": [
       "576"
      ]
     },
     "metadata": {},
     "execution_count": 3
    }
   ],
   "source": [
    "Player_count = purchase_data[\"SN\"].nunique()\n",
    "\n",
    "Player_count"
   ]
  },
  {
   "cell_type": "markdown",
   "metadata": {},
   "source": [
    "## Purchasing Analysis (Total)"
   ]
  },
  {
   "cell_type": "markdown",
   "metadata": {},
   "source": [
    "* Run basic calculations to obtain number of unique items, average price, etc.\n",
    "\n",
    "\n",
    "* Create a summary data frame to hold the results\n",
    "\n",
    "\n",
    "* Optional: give the displayed data cleaner formatting\n",
    "\n",
    "\n",
    "* Display the summary data frame\n"
   ]
  },
  {
   "cell_type": "code",
   "execution_count": 78,
   "metadata": {
    "scrolled": true
   },
   "outputs": [
    {
     "output_type": "execute_result",
     "data": {
      "text/plain": [
       "   Unique Item Count Average Item Price  Total Purchases Total Item Revenue\n",
       "0                179              $3.05              780           $2379.77"
      ],
      "text/html": "<div>\n<style scoped>\n    .dataframe tbody tr th:only-of-type {\n        vertical-align: middle;\n    }\n\n    .dataframe tbody tr th {\n        vertical-align: top;\n    }\n\n    .dataframe thead th {\n        text-align: right;\n    }\n</style>\n<table border=\"1\" class=\"dataframe\">\n  <thead>\n    <tr style=\"text-align: right;\">\n      <th></th>\n      <th>Unique Item Count</th>\n      <th>Average Item Price</th>\n      <th>Total Purchases</th>\n      <th>Total Item Revenue</th>\n    </tr>\n  </thead>\n  <tbody>\n    <tr>\n      <th>0</th>\n      <td>179</td>\n      <td>$3.05</td>\n      <td>780</td>\n      <td>$2379.77</td>\n    </tr>\n  </tbody>\n</table>\n</div>"
     },
     "metadata": {},
     "execution_count": 78
    }
   ],
   "source": [
    "purchases = len(purchase_data)\n",
    "\n",
    "unique_items = purchase_data[\"Item ID\"].nunique()\n",
    "\n",
    "avg_price = purchase_data[\"Price\"].mean()\n",
    "\n",
    "revenue = purchase_data[\"Price\"].sum()\n",
    "\n",
    "basic_summary_df = pd.DataFrame({\"Unique Item Count\": unique_items, \"Average Item Price\": avg_price, \"Total Purchases\": purchases, \"Total Item Revenue\": revenue}, index=[0])\n",
    "\n",
    "### Formatting ###\n",
    "\n",
    "basic_summary_df[\"Average Item Price\"] = basic_summary_df[\"Average Item Price\"].map(\"${:.2f}\".format)\n",
    "\n",
    "basic_summary_df[\"Total Item Revenue\"] = basic_summary_df[\"Total Item Revenue\"].map(\"${:.2f}\".format)\n",
    "\n",
    "###\n",
    "\n",
    "basic_summary_df"
   ]
  },
  {
   "cell_type": "markdown",
   "metadata": {},
   "source": [
    "## Gender Demographics"
   ]
  },
  {
   "cell_type": "markdown",
   "metadata": {},
   "source": [
    "* Percentage and Count of Male Players\n",
    "\n",
    "\n",
    "* Percentage and Count of Female Players\n",
    "\n",
    "\n",
    "* Percentage and Count of Other / Non-Disclosed\n",
    "\n",
    "\n"
   ]
  },
  {
   "cell_type": "code",
   "execution_count": 47,
   "metadata": {},
   "outputs": [
    {
     "output_type": "execute_result",
     "data": {
      "text/plain": [
       "                  Gender  Unique Player Count  Purchase Count  \\\n",
       "0                 Female                   81             113   \n",
       "1                   Male                  484             652   \n",
       "2  Other / Non-Disclosed                   11              15   \n",
       "\n",
       "   Demographic Percentage  \n",
       "0               14.487179  \n",
       "1               83.589744  \n",
       "2                1.923077  "
      ],
      "text/html": "<div>\n<style scoped>\n    .dataframe tbody tr th:only-of-type {\n        vertical-align: middle;\n    }\n\n    .dataframe tbody tr th {\n        vertical-align: top;\n    }\n\n    .dataframe thead th {\n        text-align: right;\n    }\n</style>\n<table border=\"1\" class=\"dataframe\">\n  <thead>\n    <tr style=\"text-align: right;\">\n      <th></th>\n      <th>Gender</th>\n      <th>Unique Player Count</th>\n      <th>Purchase Count</th>\n      <th>Demographic Percentage</th>\n    </tr>\n  </thead>\n  <tbody>\n    <tr>\n      <th>0</th>\n      <td>Female</td>\n      <td>81</td>\n      <td>113</td>\n      <td>14.487179</td>\n    </tr>\n    <tr>\n      <th>1</th>\n      <td>Male</td>\n      <td>484</td>\n      <td>652</td>\n      <td>83.589744</td>\n    </tr>\n    <tr>\n      <th>2</th>\n      <td>Other / Non-Disclosed</td>\n      <td>11</td>\n      <td>15</td>\n      <td>1.923077</td>\n    </tr>\n  </tbody>\n</table>\n</div>"
     },
     "metadata": {},
     "execution_count": 47
    }
   ],
   "source": [
    "gender_count = purchase_data.groupby(\"Gender\", as_index=False)[\"SN\"].nunique()\n",
    "\n",
    "gender_group = purchase_data.groupby(\"Gender\", as_index=False)[\"Purchase ID\"].count()\n",
    "\n",
    "gender_group = gender_count.merge(gender_group, how=\"outer\", on=\"Gender\")\n",
    "\n",
    "gender_group[\"Demographic Percentage\"] = gender_group[\"Purchase ID\"] / (len(purchase_data)) * 100\n",
    "\n",
    "gender_group = gender_group.rename(columns={\"Purchase ID\": \"Purchase Count\", \"SN\": \"Unique Player Count\"})\n",
    "\n",
    "gender_group"
   ]
  },
  {
   "cell_type": "code",
   "execution_count": 83,
   "metadata": {},
   "outputs": [
    {
     "output_type": "execute_result",
     "data": {
      "text/plain": [
       "                  Gender  Unique Player Count  Purchase Count  \\\n",
       "0                 Female                   81             113   \n",
       "1                   Male                  484             652   \n",
       "2  Other / Non-Disclosed                   11              15   \n",
       "\n",
       "  Demographic Percentage  \n",
       "0                 14.49%  \n",
       "1                 83.59%  \n",
       "2                  1.92%  "
      ],
      "text/html": "<div>\n<style scoped>\n    .dataframe tbody tr th:only-of-type {\n        vertical-align: middle;\n    }\n\n    .dataframe tbody tr th {\n        vertical-align: top;\n    }\n\n    .dataframe thead th {\n        text-align: right;\n    }\n</style>\n<table border=\"1\" class=\"dataframe\">\n  <thead>\n    <tr style=\"text-align: right;\">\n      <th></th>\n      <th>Gender</th>\n      <th>Unique Player Count</th>\n      <th>Purchase Count</th>\n      <th>Demographic Percentage</th>\n    </tr>\n  </thead>\n  <tbody>\n    <tr>\n      <th>0</th>\n      <td>Female</td>\n      <td>81</td>\n      <td>113</td>\n      <td>14.49%</td>\n    </tr>\n    <tr>\n      <th>1</th>\n      <td>Male</td>\n      <td>484</td>\n      <td>652</td>\n      <td>83.59%</td>\n    </tr>\n    <tr>\n      <th>2</th>\n      <td>Other / Non-Disclosed</td>\n      <td>11</td>\n      <td>15</td>\n      <td>1.92%</td>\n    </tr>\n  </tbody>\n</table>\n</div>"
     },
     "metadata": {},
     "execution_count": 83
    }
   ],
   "source": [
    "gender_demo_basic = gender_group.copy()\n",
    "\n",
    "gender_demo_basic[\"Demographic Percentage\"] = gender_demo_basic[\"Demographic Percentage\"].map(\"{:.2f}%\".format)\n",
    "\n",
    "gender_demo_basic"
   ]
  },
  {
   "cell_type": "markdown",
   "metadata": {},
   "source": [
    "\n",
    "## Purchasing Analysis (Gender)"
   ]
  },
  {
   "cell_type": "markdown",
   "metadata": {},
   "source": [
    "* Run basic calculations to obtain purchase count, avg. purchase price, avg. purchase total per person etc. by gender\n",
    "\n",
    "\n",
    "\n",
    "\n",
    "* Create a summary data frame to hold the results\n",
    "\n",
    "\n",
    "* Optional: give the displayed data cleaner formatting\n",
    "\n",
    "\n",
    "* Display the summary data frame"
   ]
  },
  {
   "cell_type": "code",
   "execution_count": 52,
   "metadata": {},
   "outputs": [
    {
     "output_type": "execute_result",
     "data": {
      "text/plain": [
       "                       Unique Player Count  Purchase Count  \\\n",
       "Gender                                                       \n",
       "Female                                  81             113   \n",
       "Male                                   484             652   \n",
       "Other / Non-Disclosed                   11              15   \n",
       "\n",
       "                      Demographic Percentage Average Purchase Price  \\\n",
       "Gender                                                                \n",
       "Female                                14.49%                  $3.20   \n",
       "Male                                  83.59%                  $3.02   \n",
       "Other / Non-Disclosed                  1.92%                  $3.35   \n",
       "\n",
       "                      Total Purchase Value Avg Total Purchase Per Person  \n",
       "Gender                                                                    \n",
       "Female                             $361.94                         $4.47  \n",
       "Male                              $1967.64                         $4.07  \n",
       "Other / Non-Disclosed               $50.19                         $4.56  "
      ],
      "text/html": "<div>\n<style scoped>\n    .dataframe tbody tr th:only-of-type {\n        vertical-align: middle;\n    }\n\n    .dataframe tbody tr th {\n        vertical-align: top;\n    }\n\n    .dataframe thead th {\n        text-align: right;\n    }\n</style>\n<table border=\"1\" class=\"dataframe\">\n  <thead>\n    <tr style=\"text-align: right;\">\n      <th></th>\n      <th>Unique Player Count</th>\n      <th>Purchase Count</th>\n      <th>Demographic Percentage</th>\n      <th>Average Purchase Price</th>\n      <th>Total Purchase Value</th>\n      <th>Avg Total Purchase Per Person</th>\n    </tr>\n    <tr>\n      <th>Gender</th>\n      <th></th>\n      <th></th>\n      <th></th>\n      <th></th>\n      <th></th>\n      <th></th>\n    </tr>\n  </thead>\n  <tbody>\n    <tr>\n      <th>Female</th>\n      <td>81</td>\n      <td>113</td>\n      <td>14.49%</td>\n      <td>$3.20</td>\n      <td>$361.94</td>\n      <td>$4.47</td>\n    </tr>\n    <tr>\n      <th>Male</th>\n      <td>484</td>\n      <td>652</td>\n      <td>83.59%</td>\n      <td>$3.02</td>\n      <td>$1967.64</td>\n      <td>$4.07</td>\n    </tr>\n    <tr>\n      <th>Other / Non-Disclosed</th>\n      <td>11</td>\n      <td>15</td>\n      <td>1.92%</td>\n      <td>$3.35</td>\n      <td>$50.19</td>\n      <td>$4.56</td>\n    </tr>\n  </tbody>\n</table>\n</div>"
     },
     "metadata": {},
     "execution_count": 52
    }
   ],
   "source": [
    "##### Create New Columns with calculations into grouped frame, then merge \n",
    "\n",
    "## Avg Price by Gender\n",
    "AvgGenderPrice = purchase_data.groupby(\"Gender\", as_index=False)[\"Price\"].mean()\n",
    "\n",
    "AvgGenderPrice = AvgGenderPrice.rename(columns={\"Price\": \"Average Purchase Price\"})\n",
    "\n",
    "gender_summary = gender_group.merge(AvgGenderPrice, how=\"outer\", on=\"Gender\")\n",
    "\n",
    "#gender_summary\n",
    "\n",
    "## Total Purhcase Value\n",
    "\n",
    "TotalGenderPrice = purchase_data.groupby(\"Gender\", as_index=False)[\"Price\"].sum()\n",
    "\n",
    "TotalGenderPrice = TotalGenderPrice.rename(columns={\"Price\": \"Total Purchase Value\"})\n",
    "\n",
    "gender_summary = gender_summary.merge(TotalGenderPrice, how=\"outer\", on=\"Gender\")\n",
    "\n",
    "## Avg Per Person\n",
    "\n",
    "gender_summary[\"Avg Total Purchase Per Person\"] = (gender_summary[\"Total Purchase Value\"] / gender_summary[\"Unique Player Count\"])\n",
    "\n",
    "##### Reset The Index to be on Gender for lookups\n",
    "\n",
    "gender_summary = gender_summary.set_index(\"Gender\")\n",
    "\n",
    "##### Format Gender Summary Frame\n",
    "\n",
    "gender_summary[\"Demographic Percentage\"] = gender_summary[\"Demographic Percentage\"].map(\"{:.2f}%\".format)\n",
    "\n",
    "gender_summary[\"Average Purchase Price\"] = gender_summary[\"Average Purchase Price\"].map(\"${:.2f}\".format)\n",
    "\n",
    "gender_summary[\"Total Purchase Value\"] = gender_summary[\"Total Purchase Value\"].map(\"${:.2f}\".format)\n",
    "\n",
    "gender_summary[\"Avg Total Purchase Per Person\"] = gender_summary[\"Avg Total Purchase Per Person\"].map(\"${:.2f}\".format)\n",
    "\n",
    "#### gender_Summary Test\n",
    "gender_summary"
   ]
  },
  {
   "cell_type": "markdown",
   "metadata": {},
   "source": [
    "## Age Demographics"
   ]
  },
  {
   "cell_type": "markdown",
   "metadata": {},
   "source": [
    "* Establish bins for ages\n",
    "\n",
    "\n",
    "* Categorize the existing players using the age bins. Hint: use pd.cut()\n",
    "\n",
    "\n",
    "* Calculate the numbers and percentages by age group\n",
    "\n",
    "\n",
    "* Create a summary data frame to hold the results\n",
    "\n",
    "\n",
    "* Optional: round the percentage column to two decimal points\n",
    "\n",
    "\n",
    "* Display Age Demographics Table\n"
   ]
  },
  {
   "cell_type": "code",
   "execution_count": 7,
   "metadata": {},
   "outputs": [],
   "source": [
    "##### Age Demo Copy to work with\n",
    "\n",
    "age_demo = purchase_data.copy()\n",
    "\n",
    "##### Create Bins\n",
    "\n",
    "age_bins = [0, 9.9, 14.9, 19.9, 24.9, 29.9, 34.9, 39.9, 100]\n",
    "bin_names = [\"<10\", \"10-14\", \"15-19\", \"20-24\", \"25-29\", \"30-34\", \"35-40\", \"40+\"]\n",
    "\n",
    "##### Create and sort to bins\n",
    "\n",
    "age_demo[\"Age Group\"] = pd.cut(age_demo[\"Age\"], age_bins, labels=bin_names, include_lowest=True)\n",
    "\n",
    "#age_group = age_demo.groupby(\"Age Summary\")"
   ]
  },
  {
   "cell_type": "code",
   "execution_count": 54,
   "metadata": {},
   "outputs": [
    {
     "output_type": "execute_result",
     "data": {
      "text/plain": [
       "  Age Group  Unique Player Count Percentage of Players\n",
       "0       <10                   17                 2.95%\n",
       "1     10-14                   22                 3.82%\n",
       "2     15-19                  107                18.58%\n",
       "3     20-24                  258                44.79%\n",
       "4     25-29                   77                13.37%\n",
       "5     30-34                   52                 9.03%\n",
       "6     35-40                   31                 5.38%\n",
       "7       40+                   12                 2.08%"
      ],
      "text/html": "<div>\n<style scoped>\n    .dataframe tbody tr th:only-of-type {\n        vertical-align: middle;\n    }\n\n    .dataframe tbody tr th {\n        vertical-align: top;\n    }\n\n    .dataframe thead th {\n        text-align: right;\n    }\n</style>\n<table border=\"1\" class=\"dataframe\">\n  <thead>\n    <tr style=\"text-align: right;\">\n      <th></th>\n      <th>Age Group</th>\n      <th>Unique Player Count</th>\n      <th>Percentage of Players</th>\n    </tr>\n  </thead>\n  <tbody>\n    <tr>\n      <th>0</th>\n      <td>&lt;10</td>\n      <td>17</td>\n      <td>2.95%</td>\n    </tr>\n    <tr>\n      <th>1</th>\n      <td>10-14</td>\n      <td>22</td>\n      <td>3.82%</td>\n    </tr>\n    <tr>\n      <th>2</th>\n      <td>15-19</td>\n      <td>107</td>\n      <td>18.58%</td>\n    </tr>\n    <tr>\n      <th>3</th>\n      <td>20-24</td>\n      <td>258</td>\n      <td>44.79%</td>\n    </tr>\n    <tr>\n      <th>4</th>\n      <td>25-29</td>\n      <td>77</td>\n      <td>13.37%</td>\n    </tr>\n    <tr>\n      <th>5</th>\n      <td>30-34</td>\n      <td>52</td>\n      <td>9.03%</td>\n    </tr>\n    <tr>\n      <th>6</th>\n      <td>35-40</td>\n      <td>31</td>\n      <td>5.38%</td>\n    </tr>\n    <tr>\n      <th>7</th>\n      <td>40+</td>\n      <td>12</td>\n      <td>2.08%</td>\n    </tr>\n  </tbody>\n</table>\n</div>"
     },
     "metadata": {},
     "execution_count": 54
    }
   ],
   "source": [
    "##### Age Group Column work\n",
    "\n",
    "age_quick_summary = age_demo.groupby(\"Age Group\", as_index=False)[\"SN\"].nunique()\n",
    "\n",
    "unique_players = age_demo[\"SN\"].nunique()\n",
    "\n",
    "age_quick_summary[\"Percentage of Players\"] = age_quick_summary[\"SN\"] / (unique_players) * 100\n",
    "\n",
    "age_quick_summary = age_quick_summary.rename(columns={\"SN\": \"Unique Player Count\"})\n",
    "\n",
    "######### FORMATTING OF QUICK AGE SUMMARY ##############\n",
    "age_quick_summary[\"Percentage of Players\"] = age_quick_summary[\"Percentage of Players\"].map(\"{:.2f}%\".format)\n",
    "\n",
    "age_quick_summary"
   ]
  },
  {
   "cell_type": "code",
   "execution_count": 92,
   "metadata": {},
   "outputs": [
    {
     "output_type": "execute_result",
     "data": {
      "text/plain": [
       "           Unique Player Count Percentage of Players  Purchase Count  \\\n",
       "Age Group                                                              \n",
       "<10                         17                 2.95%              23   \n",
       "10-14                       22                 3.82%              28   \n",
       "15-19                      107                18.58%             136   \n",
       "20-24                      258                44.79%             365   \n",
       "25-29                       77                13.37%             101   \n",
       "30-34                       52                 9.03%              73   \n",
       "35-40                       31                 5.38%              41   \n",
       "40+                         12                 2.08%              13   \n",
       "\n",
       "          Average Purchase Price Total Purchase Value  \\\n",
       "Age Group                                               \n",
       "<10                        $3.35               $77.13   \n",
       "10-14                      $2.96               $82.78   \n",
       "15-19                      $3.04              $412.89   \n",
       "20-24                      $3.05             $1114.06   \n",
       "25-29                      $2.90              $293.00   \n",
       "30-34                      $2.93              $214.00   \n",
       "35-40                      $3.60              $147.67   \n",
       "40+                        $2.94               $38.24   \n",
       "\n",
       "          Avg. Total Purchase per Player  \n",
       "Age Group                                 \n",
       "<10                                $4.54  \n",
       "10-14                              $3.76  \n",
       "15-19                              $3.86  \n",
       "20-24                              $4.32  \n",
       "25-29                              $3.81  \n",
       "30-34                              $4.12  \n",
       "35-40                              $4.76  \n",
       "40+                                $3.19  "
      ],
      "text/html": "<div>\n<style scoped>\n    .dataframe tbody tr th:only-of-type {\n        vertical-align: middle;\n    }\n\n    .dataframe tbody tr th {\n        vertical-align: top;\n    }\n\n    .dataframe thead th {\n        text-align: right;\n    }\n</style>\n<table border=\"1\" class=\"dataframe\">\n  <thead>\n    <tr style=\"text-align: right;\">\n      <th></th>\n      <th>Unique Player Count</th>\n      <th>Percentage of Players</th>\n      <th>Purchase Count</th>\n      <th>Average Purchase Price</th>\n      <th>Total Purchase Value</th>\n      <th>Avg. Total Purchase per Player</th>\n    </tr>\n    <tr>\n      <th>Age Group</th>\n      <th></th>\n      <th></th>\n      <th></th>\n      <th></th>\n      <th></th>\n      <th></th>\n    </tr>\n  </thead>\n  <tbody>\n    <tr>\n      <th>&lt;10</th>\n      <td>17</td>\n      <td>2.95%</td>\n      <td>23</td>\n      <td>$3.35</td>\n      <td>$77.13</td>\n      <td>$4.54</td>\n    </tr>\n    <tr>\n      <th>10-14</th>\n      <td>22</td>\n      <td>3.82%</td>\n      <td>28</td>\n      <td>$2.96</td>\n      <td>$82.78</td>\n      <td>$3.76</td>\n    </tr>\n    <tr>\n      <th>15-19</th>\n      <td>107</td>\n      <td>18.58%</td>\n      <td>136</td>\n      <td>$3.04</td>\n      <td>$412.89</td>\n      <td>$3.86</td>\n    </tr>\n    <tr>\n      <th>20-24</th>\n      <td>258</td>\n      <td>44.79%</td>\n      <td>365</td>\n      <td>$3.05</td>\n      <td>$1114.06</td>\n      <td>$4.32</td>\n    </tr>\n    <tr>\n      <th>25-29</th>\n      <td>77</td>\n      <td>13.37%</td>\n      <td>101</td>\n      <td>$2.90</td>\n      <td>$293.00</td>\n      <td>$3.81</td>\n    </tr>\n    <tr>\n      <th>30-34</th>\n      <td>52</td>\n      <td>9.03%</td>\n      <td>73</td>\n      <td>$2.93</td>\n      <td>$214.00</td>\n      <td>$4.12</td>\n    </tr>\n    <tr>\n      <th>35-40</th>\n      <td>31</td>\n      <td>5.38%</td>\n      <td>41</td>\n      <td>$3.60</td>\n      <td>$147.67</td>\n      <td>$4.76</td>\n    </tr>\n    <tr>\n      <th>40+</th>\n      <td>12</td>\n      <td>2.08%</td>\n      <td>13</td>\n      <td>$2.94</td>\n      <td>$38.24</td>\n      <td>$3.19</td>\n    </tr>\n  </tbody>\n</table>\n</div>"
     },
     "metadata": {},
     "execution_count": 92
    }
   ],
   "source": [
    "##### FULL AGE SUMMARY BLOCK #####\n",
    "\n",
    "## Quick copy to work with full summary while keeping quick age summary for recall ##\n",
    "age_summary = age_quick_summary.copy()\n",
    "\n",
    "## Total Purchases\n",
    "\n",
    "TotalAgePurchases = age_demo.groupby(\"Age Group\", as_index=False)[\"Purchase ID\"].count()\n",
    "\n",
    "age_summary = age_summary.merge(TotalAgePurchases, how=\"outer\", on=\"Age Group\")\n",
    "\n",
    "age_summary = age_summary.rename(columns={\"Purchase ID\": \"Purchase Count\"})\n",
    "\n",
    "## Avg. Price\n",
    "AvgAgePrice = age_demo.groupby(\"Age Group\", as_index=False)[\"Price\"].mean()\n",
    "\n",
    "age_summary = age_summary.merge(AvgAgePrice, how=\"outer\", on=\"Age Group\")\n",
    "\n",
    "age_summary = age_summary.rename(columns={\"Price\": \"Average Purchase Price\"})\n",
    "\n",
    "## Total Purchase Value\n",
    "\n",
    "TotalAgeValue = age_demo.groupby(\"Age Group\", as_index=False)[\"Price\"].sum()\n",
    "\n",
    "age_summary = age_summary.merge(TotalAgeValue, how=\"outer\", on=\"Age Group\")\n",
    "\n",
    "age_summary = age_summary.rename(columns={\"Price\": \"Total Purchase Value\"})\n",
    "\n",
    "## Avg Total per person\n",
    "\n",
    "age_summary[\"Avg. Total Purchase per Player\"] = (age_summary[\"Total Purchase Value\"] / age_summary[\"Unique Player Count\"])\n",
    "\n",
    "#### Reset Index to be on [Age Group]\n",
    "\n",
    "age_summary = age_summary.set_index(\"Age Group\")\n",
    "\n",
    "############# FORMATTING OF AGE SUMMARY ###############\n",
    "\n",
    "age_summary[\"Average Purchase Price\"] = age_summary[\"Average Purchase Price\"].map(\"${:.2f}\".format)\n",
    "\n",
    "age_summary[\"Total Purchase Value\"] = age_summary[\"Total Purchase Value\"].map(\"${:.2f}\".format)\n",
    "\n",
    "age_summary[\"Avg. Total Purchase per Player\"] = age_summary[\"Avg. Total Purchase per Player\"].map(\"${:.2f}\".format)\n",
    "\n",
    "### TEST LINE ###\n",
    "age_summary"
   ]
  },
  {
   "cell_type": "markdown",
   "metadata": {},
   "source": [
    "## Top Spenders"
   ]
  },
  {
   "cell_type": "markdown",
   "metadata": {},
   "source": [
    "* Run basic calculations to obtain the results in the table below\n",
    "\n",
    "\n",
    "* Create a summary data frame to hold the results\n",
    "\n",
    "\n",
    "* Sort the total purchase value column in descending order\n",
    "\n",
    "\n",
    "* Optional: give the displayed data cleaner formatting\n",
    "\n",
    "\n",
    "* Display a preview of the summary data frame\n",
    "\n"
   ]
  },
  {
   "cell_type": "code",
   "execution_count": 57,
   "metadata": {},
   "outputs": [
    {
     "output_type": "execute_result",
     "data": {
      "text/plain": [
       "             Number of Purchases Average Purchase Price Total Purchase Value\n",
       "Player Name                                                                 \n",
       "Lisosia93                      5                  $3.79               $18.96\n",
       "Iral74                         4                  $3.40               $13.62\n",
       "Idastidru52                    4                  $3.86               $15.45\n",
       "Asur53                         3                  $2.48                $7.44\n",
       "Inguron55                      3                  $3.70               $11.11"
      ],
      "text/html": "<div>\n<style scoped>\n    .dataframe tbody tr th:only-of-type {\n        vertical-align: middle;\n    }\n\n    .dataframe tbody tr th {\n        vertical-align: top;\n    }\n\n    .dataframe thead th {\n        text-align: right;\n    }\n</style>\n<table border=\"1\" class=\"dataframe\">\n  <thead>\n    <tr style=\"text-align: right;\">\n      <th></th>\n      <th>Number of Purchases</th>\n      <th>Average Purchase Price</th>\n      <th>Total Purchase Value</th>\n    </tr>\n    <tr>\n      <th>Player Name</th>\n      <th></th>\n      <th></th>\n      <th></th>\n    </tr>\n  </thead>\n  <tbody>\n    <tr>\n      <th>Lisosia93</th>\n      <td>5</td>\n      <td>$3.79</td>\n      <td>$18.96</td>\n    </tr>\n    <tr>\n      <th>Iral74</th>\n      <td>4</td>\n      <td>$3.40</td>\n      <td>$13.62</td>\n    </tr>\n    <tr>\n      <th>Idastidru52</th>\n      <td>4</td>\n      <td>$3.86</td>\n      <td>$15.45</td>\n    </tr>\n    <tr>\n      <th>Asur53</th>\n      <td>3</td>\n      <td>$2.48</td>\n      <td>$7.44</td>\n    </tr>\n    <tr>\n      <th>Inguron55</th>\n      <td>3</td>\n      <td>$3.70</td>\n      <td>$11.11</td>\n    </tr>\n  </tbody>\n</table>\n</div>"
     },
     "metadata": {},
     "execution_count": 57
    }
   ],
   "source": [
    "####### TOP SPENDERS BLOCK #########\n",
    "\n",
    "##Copy of main DF for SN grouping\n",
    "sn_group = purchase_data.copy()\n",
    "\n",
    "## Purchase Count block\n",
    "\n",
    "sn_summary = sn_group.groupby(\"SN\", as_index=False)[\"Purchase ID\"].count()\n",
    "\n",
    "## Avg. Purchase Price\n",
    "\n",
    "AvgSNPrice = sn_group.groupby(\"SN\", as_index=False)[\"Price\"].mean()\n",
    "\n",
    "sn_summary = sn_summary.merge(AvgSNPrice, how=\"outer\", on=\"SN\")\n",
    "\n",
    "## Total Purchase Value\n",
    "\n",
    "TotalSNValue = sn_group.groupby(\"SN\", as_index=False)[\"Price\"].sum()\n",
    "\n",
    "sn_summary = sn_summary.merge(TotalSNValue, how=\"outer\", on=\"SN\")\n",
    "\n",
    "## Sort by purchases\n",
    "\n",
    "sn_summary = sn_summary.sort_values(by=\"Purchase ID\", ascending=False)\n",
    "\n",
    "#### FORMATTING ####\n",
    "\n",
    "# Rename Columns\n",
    "sn_summary = sn_summary.rename(columns={\"SN\": \"Player Name\", \"Purchase ID\": \"Number of Purchases\", \"Price_x\": \"Average Purchase Price\", \"Price_y\": \"Total Purchase Value\"})\n",
    "\n",
    "# Set Index\n",
    "sn_summary = sn_summary.set_index(\"Player Name\")\n",
    "\n",
    "## Cell Formatting\n",
    "\n",
    "sn_summary[\"Average Purchase Price\"] = sn_summary[\"Average Purchase Price\"].map(\"${:.2f}\".format)\n",
    "\n",
    "sn_summary[\"Total Purchase Value\"] = sn_summary[\"Total Purchase Value\"].map(\"${:.2f}\".format)\n",
    "\n",
    "##### Test Line\n",
    "sn_summary.head()"
   ]
  },
  {
   "cell_type": "markdown",
   "metadata": {},
   "source": [
    "## Most Popular Items"
   ]
  },
  {
   "cell_type": "markdown",
   "metadata": {},
   "source": [
    "* Retrieve the Item ID, Item Name, and Item Price columns\n",
    "\n",
    "\n",
    "* Group by Item ID and Item Name. Perform calculations to obtain purchase count, average item price, and total purchase value\n",
    "\n",
    "\n",
    "* Create a summary data frame to hold the results\n",
    "\n",
    "\n",
    "* Sort the purchase count column in descending order\n",
    "\n",
    "\n",
    "* Optional: give the displayed data cleaner formatting\n",
    "\n",
    "\n",
    "* Display a preview of the summary data frame\n",
    "\n"
   ]
  },
  {
   "cell_type": "code",
   "execution_count": 58,
   "metadata": {},
   "outputs": [
    {
     "output_type": "execute_result",
     "data": {
      "text/plain": [
       "                                                      Purchase Count  \\\n",
       "Item ID Item Name                                                      \n",
       "92      Final Critic                                              13   \n",
       "178     Oathbreaker, Last Hope of the Breaking Storm              12   \n",
       "145     Fiery Glass Crusader                                       9   \n",
       "132     Persuasion                                                 9   \n",
       "108     Extraction, Quickblade Of Trembling Hands                  9   \n",
       "\n",
       "                                                     Average Item Price  \\\n",
       "Item ID Item Name                                                         \n",
       "92      Final Critic                                              $4.61   \n",
       "178     Oathbreaker, Last Hope of the Breaking Storm              $4.23   \n",
       "145     Fiery Glass Crusader                                      $4.58   \n",
       "132     Persuasion                                                $3.22   \n",
       "108     Extraction, Quickblade Of Trembling Hands                 $3.53   \n",
       "\n",
       "                                                     Total Purchase Value  \n",
       "Item ID Item Name                                                          \n",
       "92      Final Critic                                               $59.99  \n",
       "178     Oathbreaker, Last Hope of the Breaking Storm               $50.76  \n",
       "145     Fiery Glass Crusader                                       $41.22  \n",
       "132     Persuasion                                                 $28.99  \n",
       "108     Extraction, Quickblade Of Trembling Hands                  $31.77  "
      ],
      "text/html": "<div>\n<style scoped>\n    .dataframe tbody tr th:only-of-type {\n        vertical-align: middle;\n    }\n\n    .dataframe tbody tr th {\n        vertical-align: top;\n    }\n\n    .dataframe thead th {\n        text-align: right;\n    }\n</style>\n<table border=\"1\" class=\"dataframe\">\n  <thead>\n    <tr style=\"text-align: right;\">\n      <th></th>\n      <th></th>\n      <th>Purchase Count</th>\n      <th>Average Item Price</th>\n      <th>Total Purchase Value</th>\n    </tr>\n    <tr>\n      <th>Item ID</th>\n      <th>Item Name</th>\n      <th></th>\n      <th></th>\n      <th></th>\n    </tr>\n  </thead>\n  <tbody>\n    <tr>\n      <th>92</th>\n      <th>Final Critic</th>\n      <td>13</td>\n      <td>$4.61</td>\n      <td>$59.99</td>\n    </tr>\n    <tr>\n      <th>178</th>\n      <th>Oathbreaker, Last Hope of the Breaking Storm</th>\n      <td>12</td>\n      <td>$4.23</td>\n      <td>$50.76</td>\n    </tr>\n    <tr>\n      <th>145</th>\n      <th>Fiery Glass Crusader</th>\n      <td>9</td>\n      <td>$4.58</td>\n      <td>$41.22</td>\n    </tr>\n    <tr>\n      <th>132</th>\n      <th>Persuasion</th>\n      <td>9</td>\n      <td>$3.22</td>\n      <td>$28.99</td>\n    </tr>\n    <tr>\n      <th>108</th>\n      <th>Extraction, Quickblade Of Trembling Hands</th>\n      <td>9</td>\n      <td>$3.53</td>\n      <td>$31.77</td>\n    </tr>\n  </tbody>\n</table>\n</div>"
     },
     "metadata": {},
     "execution_count": 58
    }
   ],
   "source": [
    "#### POPULAR ITEM ####\n",
    "\n",
    "## Copy of main to use\n",
    "item_group = purchase_data.copy()\n",
    "\n",
    "## Purchase Count \n",
    "item_summary = item_group.groupby([\"Item ID\", \"Item Name\"], as_index=False)[\"Purchase ID\"].count()\n",
    "\n",
    "## Average Item Price\n",
    "AvgItemPrice = item_group.groupby([\"Item ID\", \"Item Name\"], as_index=False)[\"Price\"].mean()\n",
    "\n",
    "item_summary = item_summary.merge(AvgItemPrice, how=\"outer\", on=[\"Item ID\", \"Item Name\"])\n",
    "\n",
    "## Total Purchase Value\n",
    "TotalItemValue = item_group.groupby([\"Item ID\", \"Item Name\"], as_index=False)[\"Price\"].sum()\n",
    "\n",
    "item_summary = item_summary.merge(TotalItemValue, how=\"outer\", on=[\"Item ID\", \"Item Name\"])\n",
    "\n",
    "##### FORMATTING #####\n",
    "#rename Columns\n",
    "item_summary = item_summary.rename(columns={\"Purchase ID\": \"Purchase Count\", \"Price_x\": \"Average Item Price\", \"Price_y\": \"Total Purchase Value\"})\n",
    "\n",
    "# Sort\n",
    "item_summary = item_summary.sort_values(by=\"Purchase Count\", ascending=False)\n",
    "\n",
    "# Set Index\n",
    "item_summary = item_summary.set_index([\"Item ID\", \"Item Name\"])\n",
    "\n",
    "# Number Formatting\n",
    "\n",
    "item_summary[\"Average Item Price\"] = item_summary[\"Average Item Price\"].map(\"${:.2f}\".format)\n",
    "\n",
    "item_summary[\"Total Purchase Value\"] = item_summary[\"Total Purchase Value\"].map(\"${:.2f}\".format)\n",
    "\n",
    "## Test Line\n",
    "item_summary.head()"
   ]
  },
  {
   "cell_type": "markdown",
   "metadata": {},
   "source": [
    "## Most Profitable Items"
   ]
  },
  {
   "cell_type": "markdown",
   "metadata": {},
   "source": [
    "* Sort the above table by total purchase value in descending order\n",
    "\n",
    "\n",
    "* Optional: give the displayed data cleaner formatting\n",
    "\n",
    "\n",
    "* Display a preview of the data frame\n",
    "\n"
   ]
  },
  {
   "cell_type": "code",
   "execution_count": 95,
   "metadata": {
    "scrolled": true
   },
   "outputs": [
    {
     "output_type": "execute_result",
     "data": {
      "text/plain": [
       "                                           Purchase Count Average Item Price  \\\n",
       "Item ID Item Name                                                              \n",
       "63      Stormfury Mace                                  2              $4.99   \n",
       "29      Chaos, Ender of the End                         5              $1.98   \n",
       "173     Stormfury Longsword                             2              $4.93   \n",
       "38      The Void, Vengeance of Dark Magic               4              $2.37   \n",
       "143     Frenzied Scimitar                               6              $1.56   \n",
       "\n",
       "                                          Total Purchase Value  \n",
       "Item ID Item Name                                               \n",
       "63      Stormfury Mace                                   $9.98  \n",
       "29      Chaos, Ender of the End                          $9.90  \n",
       "173     Stormfury Longsword                              $9.86  \n",
       "38      The Void, Vengeance of Dark Magic                $9.48  \n",
       "143     Frenzied Scimitar                                $9.36  "
      ],
      "text/html": "<div>\n<style scoped>\n    .dataframe tbody tr th:only-of-type {\n        vertical-align: middle;\n    }\n\n    .dataframe tbody tr th {\n        vertical-align: top;\n    }\n\n    .dataframe thead th {\n        text-align: right;\n    }\n</style>\n<table border=\"1\" class=\"dataframe\">\n  <thead>\n    <tr style=\"text-align: right;\">\n      <th></th>\n      <th></th>\n      <th>Purchase Count</th>\n      <th>Average Item Price</th>\n      <th>Total Purchase Value</th>\n    </tr>\n    <tr>\n      <th>Item ID</th>\n      <th>Item Name</th>\n      <th></th>\n      <th></th>\n      <th></th>\n    </tr>\n  </thead>\n  <tbody>\n    <tr>\n      <th>63</th>\n      <th>Stormfury Mace</th>\n      <td>2</td>\n      <td>$4.99</td>\n      <td>$9.98</td>\n    </tr>\n    <tr>\n      <th>29</th>\n      <th>Chaos, Ender of the End</th>\n      <td>5</td>\n      <td>$1.98</td>\n      <td>$9.90</td>\n    </tr>\n    <tr>\n      <th>173</th>\n      <th>Stormfury Longsword</th>\n      <td>2</td>\n      <td>$4.93</td>\n      <td>$9.86</td>\n    </tr>\n    <tr>\n      <th>38</th>\n      <th>The Void, Vengeance of Dark Magic</th>\n      <td>4</td>\n      <td>$2.37</td>\n      <td>$9.48</td>\n    </tr>\n    <tr>\n      <th>143</th>\n      <th>Frenzied Scimitar</th>\n      <td>6</td>\n      <td>$1.56</td>\n      <td>$9.36</td>\n    </tr>\n  </tbody>\n</table>\n</div>"
     },
     "metadata": {},
     "execution_count": 95
    }
   ],
   "source": [
    "#### PROFIT BLOCK ####\n",
    "\n",
    "## Copy Item Summary for profit sorting\n",
    "profit_summary = item_summary.copy()\n",
    "\n",
    "profit_summary = profit_summary.sort_values(by=\"Total Purchase Value\", ascending=False)\n",
    "\n",
    "profit_summary.head()"
   ]
  },
  {
   "cell_type": "code",
   "execution_count": 90,
   "metadata": {},
   "outputs": [],
   "source": [
    "########## DATA FRAME DUMP ###############\n",
    "\n",
    "###    Remove the notemark to test     ###\n",
    "\n",
    "# -------------------------------------- #\n",
    "\n",
    "#print(f\"Total Players: {Player_count}\")\n",
    "\n",
    "#basic_summary_df\n",
    "\n",
    "#gender_demo_basic\n",
    "\n",
    "#gender_summary\n",
    "\n",
    "#age_quick_summary\n",
    "\n",
    "#age_summary\n",
    "\n",
    "#sn_summary.head(10)\n",
    "\n",
    "#item_summary.sample(10)\n",
    "\n",
    "#profit_summary.head(10)"
   ]
  },
  {
   "cell_type": "code",
   "execution_count": null,
   "metadata": {},
   "outputs": [],
   "source": []
  }
 ],
 "metadata": {
  "anaconda-cloud": {},
  "kernel_info": {
   "name": "python3"
  },
  "kernelspec": {
   "display_name": "Python 3",
   "language": "python",
   "name": "python3"
  },
  "language_info": {
   "codemirror_mode": {
    "name": "ipython",
    "version": 3
   },
   "file_extension": ".py",
   "mimetype": "text/x-python",
   "name": "python",
   "nbconvert_exporter": "python",
   "pygments_lexer": "ipython3",
   "version": "3.8.5-final"
  },
  "latex_envs": {
   "LaTeX_envs_menu_present": true,
   "autoclose": false,
   "autocomplete": true,
   "bibliofile": "biblio.bib",
   "cite_by": "apalike",
   "current_citInitial": 1,
   "eqLabelWithNumbers": true,
   "eqNumInitial": 1,
   "hotkeys": {
    "equation": "Ctrl-E",
    "itemize": "Ctrl-I"
   },
   "labels_anchors": false,
   "latex_user_defs": false,
   "report_style_numbering": false,
   "user_envs_cfg": false
  },
  "nteract": {
   "version": "0.2.0"
  }
 },
 "nbformat": 4,
 "nbformat_minor": 2
}